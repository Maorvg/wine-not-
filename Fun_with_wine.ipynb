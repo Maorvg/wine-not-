{
  "nbformat": 4,
  "nbformat_minor": 0,
  "metadata": {
    "colab": {
      "name": "Fun with wine",
      "provenance": [],
      "mount_file_id": "104vGoNFi1R_y0aExaQ98GceVTKPNbFVq",
      "authorship_tag": "ABX9TyN5FTB25Re0CIkmpBMszFZe",
      "include_colab_link": true
    },
    "kernelspec": {
      "name": "python3",
      "display_name": "Python 3"
    },
    "accelerator": "GPU"
  },
  "cells": [
    {
      "cell_type": "markdown",
      "metadata": {
        "id": "view-in-github",
        "colab_type": "text"
      },
      "source": [
        "<a href=\"https://colab.research.google.com/github/Maorvg/wine-not-/blob/main/Fun_with_wine.ipynb\" target=\"_parent\"><img src=\"https://colab.research.google.com/assets/colab-badge.svg\" alt=\"Open In Colab\"/></a>"
      ]
    },
    {
      "cell_type": "code",
      "metadata": {
        "id": "USYcIH6_SECK"
      },
      "source": [
        "import pandas as pd\r\n",
        "from collections import Counter\r\n",
        "from numpy import random\r\n",
        "import matplotlib.pyplot as plt\r\n",
        "import statistics \r\n",
        "\r\n",
        "\r\n"
      ],
      "execution_count": 166,
      "outputs": []
    },
    {
      "cell_type": "code",
      "metadata": {
        "id": "Tjo8hdlvU3Y7"
      },
      "source": [
        "df=pd.read_csv('/content/drive/MyDrive/winemag-data-130k-v2.csv')\r\n",
        "small_df1=df[['points','taster_name']].fillna(\"I don't know\")\r\n",
        "small_df2=df[['points','taster_name','variety']].fillna(\"I don't know\")\r\n",
        "\r\n"
      ],
      "execution_count": 4,
      "outputs": []
    },
    {
      "cell_type": "markdown",
      "metadata": {
        "id": "7LG41NY2XPmQ"
      },
      "source": [
        "If I were to go to a dinner party with any one of these tasters, I ought to know which is their favourite wine"
      ]
    },
    {
      "cell_type": "code",
      "metadata": {
        "id": "3zDG2WqKXnoY"
      },
      "source": [
        "df_grouped=small_df1.groupby('taster_name').agg({'points':max}).reset_index()\r\n",
        "tasters={}\r\n",
        "for guy,score in zip(df_grouped['taster_name'],df_grouped['points']):\r\n",
        "  tasters[guy]=score\r\n",
        "\r\n",
        "print('Who is having you over for a party?')\r\n",
        "print(list(tasters.keys()))\r\n",
        "selected=str(input())\r\n",
        "filt=((small_df2['points']==tasters[selected]) & (small_df2['taster_name']==selected))\r\n",
        "recommended=set(small_df2.loc[filt,'variety'])\r\n",
        "\r\n",
        "print(\"If so, you'd better bring one of these: \",recommended)"
      ],
      "execution_count": null,
      "outputs": []
    },
    {
      "cell_type": "markdown",
      "metadata": {
        "id": "TLGaMMGpQeFc"
      },
      "source": [
        "Information about the wines from the Country with the most highest rated wines"
      ]
    },
    {
      "cell_type": "code",
      "metadata": {
        "id": "4q6QkTioQhB-"
      },
      "source": [
        "t2_df=df[['country','points','winery','designation']].fillna('unknown')\r\n",
        "t2_df=t2_df.sort_values(by=['points'],ascending=False) #for viewing comfort\r\n",
        "grouped_df=t2_df.groupby('points').agg({\r\n",
        "    'country':lambda x: list(x),\r\n",
        "    }\r\n",
        "    ).reset_index()\r\n",
        "best_country=Counter(grouped_df.loc[grouped_df.index[-1],'country']).most_common()[0][0]\r\n",
        "filt=(df['country']==best_country) & (df['points']==df['points'].max())\r\n",
        "df[filt]"
      ],
      "execution_count": null,
      "outputs": []
    },
    {
      "cell_type": "markdown",
      "metadata": {
        "id": "dbQl5LiGdca7"
      },
      "source": [
        "Checking how different tasters rate and describe the same wine"
      ]
    },
    {
      "cell_type": "code",
      "metadata": {
        "colab": {
          "base_uri": "https://localhost:8080/"
        },
        "id": "Y8R7Df7idi-6",
        "outputId": "8ada1763-08b2-49de-9769-ebf4b0aca430"
      },
      "source": [
        "#I decided to take a random wine which each time that has exactly 2 descriptions in order to compare the descriptions.\r\n",
        "\r\n",
        "\r\n",
        "all=dict(Counter(df['title'].fillna('unknown')))\r\n",
        "wines=[]\r\n",
        "for wine in all:\r\n",
        " \r\n",
        "  if (all[wine]==2):\r\n",
        "    filt=df['title']==wine\r\n",
        "    a=df.loc[filt,'description'][:1]\r\n",
        "    b=df.loc[filt,'description'][1:2]\r\n",
        "    if a.values != b.values:\r\n",
        "      wines.append(wine)\r\n",
        "\r\n",
        "pick=random.randint(len(wines))\r\n",
        "filt=df['title']==wines[pick]\r\n",
        "pd.set_option(\"display.max_colwidth\", -1)\r\n",
        "print(df.loc[filt,'description'])\r\n",
        "\r\n"
      ],
      "execution_count": 195,
      "outputs": [
        {
          "output_type": "stream",
          "text": [
            "122235    This soft, fruity wine is pretty much ready to drink. With its red-berry fruits and fresh acidity it has a crisp side, although its round, ripe texture is so attractive. Drink from the end of 2016.        \n",
            "127915    This wine is structured, firm and has a mineral, tight texture. It also offers plenty of red apples, green plums and a touch of apricot. However, with its nervy edge the wine needs to age; drink from 2017.\n",
            "Name: description, dtype: object\n"
          ],
          "name": "stdout"
        },
        {
          "output_type": "stream",
          "text": [
            "/usr/local/lib/python3.7/dist-packages/ipykernel_launcher.py:17: FutureWarning: Passing a negative integer is deprecated in version 1.0 and will not be supported in future version. Instead, use None to not limit the column width.\n"
          ],
          "name": "stderr"
        }
      ]
    },
    {
      "cell_type": "markdown",
      "metadata": {
        "id": "Ewp0JL3zWhCY"
      },
      "source": [
        "After several runs of the cell above you can clearly state that either one of these statments is true:\r\n",
        "  - Critics have no idea what they are talking about.\r\n",
        "  - Every person has a different pallet and prefrences.\r\n",
        "\r\n",
        "Whether one or both is true, the conclusion is clear: There is no objectivly good wine so just drink the wine YOU like.\r\n"
      ]
    },
    {
      "cell_type": "markdown",
      "metadata": {
        "id": "dIxHD9y7Y0l2"
      },
      "source": [
        "I will check the connection between the price of the wine and its rating"
      ]
    },
    {
      "cell_type": "code",
      "metadata": {
        "id": "wzUuA7evbWjD"
      },
      "source": [
        "df_grouped=df[['points','price']].dropna()\r\n",
        "\r\n",
        "df_grouped=df_grouped.groupby('points').agg({'price':lambda x:list(x)})\r\n",
        "df_grouped['avg_price']=df_grouped['price'].apply(lambda x: statistics.mean(x))\r\n",
        "df_grouped['range_cof']=df_grouped['price'].apply(lambda x:max(x)-min(x))\r\n",
        "\r\n",
        "\r\n"
      ],
      "execution_count": null,
      "outputs": []
    },
    {
      "cell_type": "markdown",
      "metadata": {
        "id": "r8vBljqNkcCI"
      },
      "source": [
        "We would expect as a wines rating goes up, Its avg price should go up with it "
      ]
    },
    {
      "cell_type": "code",
      "metadata": {
        "colab": {
          "base_uri": "https://localhost:8080/",
          "height": 296
        },
        "id": "qTa_j7y8kbuJ",
        "outputId": "ed34148d-2a92-4abb-b5e5-fb9ec05d2f72"
      },
      "source": [
        "df_grouped['avg_price'].plot()"
      ],
      "execution_count": 177,
      "outputs": [
        {
          "output_type": "execute_result",
          "data": {
            "text/plain": [
              "<matplotlib.axes._subplots.AxesSubplot at 0x7f547b1887d0>"
            ]
          },
          "metadata": {
            "tags": []
          },
          "execution_count": 177
        },
        {
          "output_type": "display_data",
          "data": {
            "image/png": "[encoded data removed]",
            "text/plain": [
              "<Figure size 432x288 with 1 Axes>"
            ]
          },
          "metadata": {
            "tags": [],
            "needs_background": "light"
          }
        }
      ]
    },
    {
      "cell_type": "markdown",
      "metadata": {
        "id": "iF-KhWO5lMBx"
      },
      "source": [
        "while we see this is true, we are not taking into account the fact that there might be vast price ranges for each score"
      ]
    },
    {
      "cell_type": "code",
      "metadata": {
        "colab": {
          "base_uri": "https://localhost:8080/",
          "height": 296
        },
        "id": "RsfSxgGllxun",
        "outputId": "41e3b44e-08e1-4453-857e-0566c79c90b1"
      },
      "source": [
        "df_grouped['range_cof'].plot()"
      ],
      "execution_count": 178,
      "outputs": [
        {
          "output_type": "execute_result",
          "data": {
            "text/plain": [
              "<matplotlib.axes._subplots.AxesSubplot at 0x7f547b0faed0>"
            ]
          },
          "metadata": {
            "tags": []
          },
          "execution_count": 178
        },
        {
          "output_type": "display_data",
          "data": {
            "image/png": "[encoded data removed]",
            "text/plain": [
              "<Figure size 432x288 with 1 Axes>"
            ]
          },
          "metadata": {
            "tags": [],
            "needs_background": "light"
          }
        }
      ]
    },
    {
      "cell_type": "markdown",
      "metadata": {
        "id": "0A-UHhn9mQY8"
      },
      "source": [
        "While expecting this line to curve downwards ( by the logic that a highly rated wine has a more wildley accepted value than a low or mid-range wine), the graph is chaotic and tilts upwards"
      ]
    },
    {
      "cell_type": "markdown",
      "metadata": {
        "id": "AVvrb001mrCS"
      },
      "source": [
        "To reveal the true nature of the relationship between price and rating I will combine the two graphs in the following manner:"
      ]
    },
    {
      "cell_type": "code",
      "metadata": {
        "colab": {
          "base_uri": "https://localhost:8080/",
          "height": 296
        },
        "id": "YPBC6WHBm6BB",
        "outputId": "90711ee5-0c22-4af9-8faa-47f87391f821"
      },
      "source": [
        "df_grouped['value_score']=df_grouped['avg_price']*df_grouped['range_cof']\r\n",
        "df_grouped['value_score'].plot()"
      ],
      "execution_count": 180,
      "outputs": [
        {
          "output_type": "execute_result",
          "data": {
            "text/plain": [
              "<matplotlib.axes._subplots.AxesSubplot at 0x7f547b0de1d0>"
            ]
          },
          "metadata": {
            "tags": []
          },
          "execution_count": 180
        },
        {
          "output_type": "display_data",
          "data": {
            "image/png": "[encoded data removed]",
            "text/plain": [
              "<Figure size 432x288 with 1 Axes>"
            ]
          },
          "metadata": {
            "tags": [],
            "needs_background": "light"
          }
        }
      ]
    },
    {
      "cell_type": "markdown",
      "metadata": {
        "id": "pu6y4UxSoBj1"
      },
      "source": [
        "this graph shows us how 'stable'  a wines price is. the larger the value the bigger the price range.\r\n",
        "In conclusion there seems to be an uneaven corolation between a wines rating and its price, generally speaking you'd probably get the best deal for buying a wine in the 92-95 rating range. "
      ]
    }
  ]
}